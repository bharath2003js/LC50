{
 "cells": [
  {
   "cell_type": "markdown",
   "id": "62d9bd1d",
   "metadata": {},
   "source": [
    "# WireFrame"
   ]
  },
  {
   "cell_type": "markdown",
   "id": "7594cd4c",
   "metadata": {},
   "source": [
    "\n",
    "# Wireframe Document\n",
    "\n",
    "## LC50 Prediction Project User Interface\n",
    "\n",
    "### Overview\n",
    "The user interface aims to provide a simple and intuitive way for users to input molecular descriptors and receive predicted LC50 values using the QSAR models.\n",
    "\n",
    "### Components\n",
    "\n",
    "1. **Input Form**\n",
    "   - Fields to input six molecular descriptors:\n",
    "     - Descriptor 1: [Input field]\n",
    "     - Descriptor 2: [Input field]\n",
    "     - Descriptor 3: [Input field]\n",
    "     - Descriptor 4: [Input field]\n",
    "     - Descriptor 5: [Input field]\n",
    "     - Descriptor 6: [Input field]\n",
    "   - Submit Button: \"Predict LC50\"\n",
    "\n",
    "2. **Result Display**\n",
    "   - Area to display the predicted LC50 value after submission:\n",
    "     - Predicted LC50 Value: [Result]\n",
    "\n",
    "### Layout\n",
    "\n",
    "```\n",
    "---------------------------------\n",
    "|        LC50 Prediction        |\n",
    "---------------------------------\n",
    "|  Descriptor 1: [Input field]  |\n",
    "|  Descriptor 2: [Input field]  |\n",
    "|  Descriptor 3: [Input field]  |\n",
    "|  Descriptor 4: [Input field]  |\n",
    "|  Descriptor 5: [Input field]  |\n",
    "|  Descriptor 6: [Input field]  |\n",
    "|                               |\n",
    "|       [Predict LC50]          |\n",
    "|                               |\n",
    "|   Predicted LC50 Value:       |\n",
    "|         [Result]              |\n",
    "---------------------------------\n",
    "```\n",
    "\n",
    "### Interactions\n",
    "\n",
    "- User fills in the molecular descriptors.\n",
    "- User clicks \"Predict LC50\" button.\n",
    "- Application processes input data and displays predicted LC50 value.\n",
    "\n",
    "### Design Considerations\n",
    "\n",
    "- **Responsiveness:** Ensure the interface adapts to different screen sizes.\n",
    "- **Validation:** Validate input fields to ensure correct data format.\n",
    "- **User Feedback:** Provide clear feedback after prediction (e.g., success message or error notification).\n",
    "- **Accessibility:** Ensure the interface is accessible to users with disabilities.\n",
    "\n",
    "### Next Steps\n",
    "\n",
    "- Implement the wireframe design using HTML/CSS in the front-end.\n",
    "- Integrate the front-end with Flask back-end to handle form submission and prediction.\n",
    "- Test the user interface for usability and functionality.\n",
    "\n",
    "---"
   ]
  },
  {
   "cell_type": "code",
   "execution_count": null,
   "id": "0eae4aca",
   "metadata": {},
   "outputs": [],
   "source": []
  }
 ],
 "metadata": {
  "kernelspec": {
   "display_name": "Python 3 (ipykernel)",
   "language": "python",
   "name": "python3"
  },
  "language_info": {
   "codemirror_mode": {
    "name": "ipython",
    "version": 3
   },
   "file_extension": ".py",
   "mimetype": "text/x-python",
   "name": "python",
   "nbconvert_exporter": "python",
   "pygments_lexer": "ipython3",
   "version": "3.9.13"
  }
 },
 "nbformat": 4,
 "nbformat_minor": 5
}
